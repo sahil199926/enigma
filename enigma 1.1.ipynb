{
 "cells": [
  {
   "cell_type": "code",
   "execution_count": null,
   "metadata": {},
   "outputs": [],
   "source": [
    "#num+num*2\n",
    "from IPython.display import clear_output\n",
    "l=input('please enter your message ')\n",
    "a=0\n",
    "while a not in [1,2,3,4,5,6,7,8,9]:\n",
    "    a=int(input('please select a key (1-9)'))\n",
    "clear_output()\n",
    "l=list(l)\n",
    "q=[]\n",
    "if a==1:\n",
    "    for i in l:\n",
    "        q.append(i+'@Qw4')\n",
    "    print(''.join(q))\n",
    "elif a==2:\n",
    "    for i in l:\n",
    "        q.append(i+'d3!#$RFE')\n",
    "    print(''.join(q))\n",
    "elif a==3:\n",
    "    for i in l:\n",
    "        q.append(i+'%#7*!&HMW24Q')\n",
    "    print(''.join(q))\n",
    "elif a==4:\n",
    "    for i in l:\n",
    "        q.append(i+'PLC%&F@HAHCY##&$')\n",
    "    print(''.join(q))\n",
    "elif a==5:\n",
    "    for i in l:\n",
    "        q.append(i+'LVMRISNRU$&@^!^$HD^#')\n",
    "    print(''.join(q))\n",
    "elif a==6:\n",
    "    for i in l:\n",
    "        q.append(i+'azuecn&3nf9s!&Fmcnauebvb')\n",
    "    print(''.join(q))\n",
    "elif a==7:\n",
    "    for i in l:\n",
    "        q.append(i+'ALCNeucnb&@^#%$*fhsndh4628@#')\n",
    "    print(''.join(q))\n",
    "elif a==8:\n",
    "    for i in l:\n",
    "        q.append(i+'MAiwhdnc7#&$bssj3j#*!&andkmar*&#')\n",
    "    print(''.join(q))\n",
    "elif a==9:\n",
    "    for i in l:\n",
    "        q.append(i+'cakjduHEJA@&$%@^#gagevcrnensie&#^!!O')\n",
    "    print(''.join(q))\n",
    "print(f'------------------your key is {a}------------------')\n",
    "\n",
    "\n",
    "    "
   ]
  },
  {
   "cell_type": "code",
   "execution_count": null,
   "metadata": {},
   "outputs": [],
   "source": [
    "a=input('please paste your message here ')\n",
    "clear_output\n",
    "key=int(input('enter a key '))\n",
    "clear_output()\n",
    "h=(key+key)*2+1\n",
    "print(a[::h])"
   ]
  },
  {
   "cell_type": "code",
   "execution_count": null,
   "metadata": {},
   "outputs": [],
   "source": []
  }
 ],
 "metadata": {
  "kernelspec": {
   "display_name": "Python 3",
   "language": "python",
   "name": "python3"
  },
  "language_info": {
   "codemirror_mode": {
    "name": "ipython",
    "version": 3
   },
   "file_extension": ".py",
   "mimetype": "text/x-python",
   "name": "python",
   "nbconvert_exporter": "python",
   "pygments_lexer": "ipython3",
   "version": "3.7.4"
  }
 },
 "nbformat": 4,
 "nbformat_minor": 2
}
